{
 "cells": [
  {
   "cell_type": "code",
   "execution_count": 16,
   "metadata": {},
   "outputs": [],
   "source": [
    "using LinearAlgebra, PyPlot\n",
    "include(\"hw1_functions.jl\");"
   ]
  },
  {
   "cell_type": "markdown",
   "metadata": {},
   "source": [
    "## 1i"
   ]
  },
  {
   "cell_type": "code",
   "execution_count": 3,
   "metadata": {},
   "outputs": [],
   "source": [
    "b1 = fill(1,(5,5)) - I\n",
    "b2 = [0; 0; 0; 1; 1]\n",
    "b22 = [1; 1; 0; 0; 0]\n",
    "b3 = fill(0,(5,5));"
   ]
  },
  {
   "cell_type": "code",
   "execution_count": 4,
   "metadata": {},
   "outputs": [
    {
     "data": {
      "text/plain": [
       "11×11 Matrix{Int64}:\n",
       " 0  1  1  1  1  0  0  0  0  0  0\n",
       " 1  0  1  1  1  0  0  0  0  0  0\n",
       " 1  1  0  1  1  0  0  0  0  0  0\n",
       " 1  1  1  0  1  1  0  0  0  0  0\n",
       " 1  1  1  1  0  1  0  0  0  0  0\n",
       " 0  0  0  1  1  0  1  1  0  0  0\n",
       " 0  0  0  0  0  1  0  1  1  1  1\n",
       " 0  0  0  0  0  1  1  0  1  1  1\n",
       " 0  0  0  0  0  0  1  1  0  1  1\n",
       " 0  0  0  0  0  0  1  1  1  0  1\n",
       " 0  0  0  0  0  0  1  1  1  1  0"
      ]
     },
     "metadata": {},
     "output_type": "display_data"
    }
   ],
   "source": [
    "W = [b1 b2 b3;\n",
    "     b2' 0 b22';\n",
    "     b3 b22 b1]"
   ]
  },
  {
   "cell_type": "code",
   "execution_count": 5,
   "metadata": {},
   "outputs": [
    {
     "data": {
      "text/plain": [
       "11×1 Matrix{Float64}:\n",
       " 1.62\n",
       " 1.62\n",
       " 1.62\n",
       " 1.7461883408071748\n",
       " 1.7461883408071748\n",
       " 1.6666666666666667\n",
       " 1.746188340807175\n",
       " 1.7461883408071748\n",
       " 1.62\n",
       " 1.6199999999999999\n",
       " 1.62"
      ]
     },
     "metadata": {},
     "output_type": "display_data"
    }
   ],
   "source": [
    "β = 0.1\n",
    "M = inv(I - β .* W)\n",
    "\n",
    "z = sum(M,dims=2)\n",
    "Mii = [M[i,i] for i in eachindex(M[1,:])]\n",
    "x = z./Mii"
   ]
  },
  {
   "cell_type": "markdown",
   "metadata": {},
   "source": [
    "## 2b2"
   ]
  },
  {
   "cell_type": "markdown",
   "metadata": {},
   "source": [
    "![Alt text](hw3-2b2-BRgraph.svg)"
   ]
  },
  {
   "cell_type": "code",
   "execution_count": 24,
   "metadata": {},
   "outputs": [
    {
     "data": {
      "text/plain": [
       "8-element Vector{Float64}:\n",
       " 0.1999999999999994\n",
       " 0.133333333333333\n",
       " 0.0999999999999999\n",
       " 0.06666666666666643\n",
       " 0.06666666666666683\n",
       " 0.10000000000000026\n",
       " 0.13333333333333375\n",
       " 0.2000000000000003"
      ]
     },
     "metadata": {},
     "output_type": "display_data"
    }
   ],
   "source": [
    "W = [0.0 0.5 0.5 0.0 0.0 0.0 0.0 0.0;\n",
    "     0.5 0.0 0.0 0.0 0.0 0.0 0.0 0.0;\n",
    "     0.5 0.0 0.0 1.0 0.0 0.0 0.0 0.0;\n",
    "     0.0 1.0 0.0 0.0 0.0 0.0 0.0 1.0;\n",
    "     1.0 0.0 0.0 0.0 0.0 0.0 1.0 0.0;\n",
    "     0.0 0.0 0.0 0.0 1.0 0.0 0.0 0.5;\n",
    "     0.0 0.0 0.0 0.0 0.0 0.0 0.0 0.5;\n",
    "     0.0 0.0 0.0 0.0 0.0 0.5 0.5 0.0]\n",
    "\n",
    "G = Graph(W)\n",
    "π = centrality_inv_dist(G)"
   ]
  },
  {
   "cell_type": "code",
   "execution_count": 18,
   "metadata": {},
   "outputs": [
    {
     "data": {
      "text/plain": [
       "8-element Vector{Float64}:\n",
       " 5.999999999999982\n",
       " 3.99999999999999\n",
       " 2.999999999999997\n",
       " 1.999999999999993\n",
       " 2.000000000000005\n",
       " 3.0000000000000075\n",
       " 4.000000000000012\n",
       " 6.000000000000009"
      ]
     },
     "metadata": {},
     "output_type": "display_data"
    }
   ],
   "source": [
    "π .* 30"
   ]
  }
 ],
 "metadata": {
  "kernelspec": {
   "display_name": "Julia 1.8.1",
   "language": "julia",
   "name": "julia-1.8"
  },
  "language_info": {
   "file_extension": ".jl",
   "mimetype": "application/julia",
   "name": "julia",
   "version": "1.8.1"
  }
 },
 "nbformat": 4,
 "nbformat_minor": 2
}
