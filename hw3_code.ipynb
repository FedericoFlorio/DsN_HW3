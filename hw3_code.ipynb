{
 "cells": [
  {
   "cell_type": "code",
   "execution_count": 2,
   "metadata": {},
   "outputs": [],
   "source": [
    "using LinearAlgebra, PyPlot\n",
    "include(\"hw1_functions.jl\")\n",
    "include(\"hw3_functions.jl\");"
   ]
  },
  {
   "cell_type": "markdown",
   "metadata": {},
   "source": [
    "## 1i"
   ]
  },
  {
   "cell_type": "code",
   "execution_count": 3,
   "metadata": {},
   "outputs": [],
   "source": [
    "b1 = fill(1,(5,5)) - I\n",
    "b2 = [0; 0; 0; 1; 1]\n",
    "b22 = [1; 1; 0; 0; 0]\n",
    "b3 = fill(0,(5,5));"
   ]
  },
  {
   "cell_type": "code",
   "execution_count": 4,
   "metadata": {},
   "outputs": [
    {
     "data": {
      "text/plain": [
       "11×11 Matrix{Int64}:\n",
       " 0  1  1  1  1  0  0  0  0  0  0\n",
       " 1  0  1  1  1  0  0  0  0  0  0\n",
       " 1  1  0  1  1  0  0  0  0  0  0\n",
       " 1  1  1  0  1  1  0  0  0  0  0\n",
       " 1  1  1  1  0  1  0  0  0  0  0\n",
       " 0  0  0  1  1  0  1  1  0  0  0\n",
       " 0  0  0  0  0  1  0  1  1  1  1\n",
       " 0  0  0  0  0  1  1  0  1  1  1\n",
       " 0  0  0  0  0  0  1  1  0  1  1\n",
       " 0  0  0  0  0  0  1  1  1  0  1\n",
       " 0  0  0  0  0  0  1  1  1  1  0"
      ]
     },
     "metadata": {},
     "output_type": "display_data"
    }
   ],
   "source": [
    "W = [b1 b2 b3;\n",
    "     b2' 0 b22';\n",
    "     b3 b22 b1]"
   ]
  },
  {
   "cell_type": "code",
   "execution_count": 5,
   "metadata": {},
   "outputs": [
    {
     "data": {
      "text/plain": [
       "11×1 Matrix{Float64}:\n",
       " 1.7197452229299364\n",
       " 1.7197452229299364\n",
       " 1.7197452229299364\n",
       " 1.8789808917197452\n",
       " 1.878980891719745\n",
       " 1.7515923566878981\n",
       " 1.8789808917197452\n",
       " 1.8789808917197455\n",
       " 1.7197452229299364\n",
       " 1.7197452229299361\n",
       " 1.7197452229299364"
      ]
     },
     "metadata": {},
     "output_type": "display_data"
    },
    {
     "data": {
      "text/plain": [
       "11-element Vector{Float64}:\n",
       " 1.0615711252653928\n",
       " 1.0615711252653928\n",
       " 1.0615711252653928\n",
       " 1.0760470951553756\n",
       " 1.0760470951553753\n",
       " 1.0509554140127388\n",
       " 1.0760470951553753\n",
       " 1.0760470951553756\n",
       " 1.0615711252653928\n",
       " 1.0615711252653928\n",
       " 1.0615711252653928"
      ]
     },
     "metadata": {},
     "output_type": "display_data"
    },
    {
     "data": {
      "text/plain": [
       "11×1 Matrix{Float64}:\n",
       " 2.7859872611464973\n",
       " 2.7859872611464973\n",
       " 2.7859872611464973\n",
       " 3.2810545257204873\n",
       " 3.2810545257204873\n",
       " 2.9193205944798306\n",
       " 3.281054525720488\n",
       " 3.281054525720488\n",
       " 2.7859872611464973\n",
       " 2.7859872611464964\n",
       " 2.7859872611464973"
      ]
     },
     "metadata": {},
     "output_type": "display_data"
    }
   ],
   "source": [
    "β = 0.1\n",
    "M = inv(I - β .* W)\n",
    "\n",
    "z = sum(M,dims=2)\n",
    "Mii = [M[i,i] for i in eachindex(M[1,:])]\n",
    "x = (z.^2)./Mii\n",
    "\n",
    "display(z)\n",
    "display(Mii)\n",
    "display(x)"
   ]
  },
  {
   "cell_type": "code",
   "execution_count": 6,
   "metadata": {},
   "outputs": [
    {
     "data": {
      "text/plain": [
       "11×1 Matrix{Float64}:\n",
       " 7.77777777777778\n",
       " 7.777777777777781\n",
       " 7.77777777777778\n",
       " 9.166666666666673\n",
       " 9.166666666666673\n",
       " 8.333333333333334\n",
       " 9.166666666666666\n",
       " 9.166666666666666\n",
       " 7.77777777777778\n",
       " 7.77777777777778\n",
       " 7.77777777777778"
      ]
     },
     "metadata": {},
     "output_type": "display_data"
    },
    {
     "data": {
      "text/plain": [
       "11-element Vector{Float64}:\n",
       " 1.8518518518518523\n",
       " 1.8518518518518525\n",
       " 1.8518518518518523\n",
       " 2.083333333333334\n",
       " 2.083333333333334\n",
       " 1.6666666666666665\n",
       " 2.083333333333333\n",
       " 2.083333333333333\n",
       " 1.851851851851852\n",
       " 1.851851851851852\n",
       " 1.851851851851852"
      ]
     },
     "metadata": {},
     "output_type": "display_data"
    },
    {
     "data": {
      "text/plain": [
       "11×1 Matrix{Float64}:\n",
       " 32.66666666666668\n",
       " 32.666666666666686\n",
       " 32.66666666666668\n",
       " 40.33333333333338\n",
       " 40.33333333333338\n",
       " 41.66666666666668\n",
       " 40.333333333333336\n",
       " 40.333333333333336\n",
       " 32.666666666666686\n",
       " 32.666666666666686\n",
       " 32.666666666666686"
      ]
     },
     "metadata": {},
     "output_type": "display_data"
    }
   ],
   "source": [
    "β = 0.2\n",
    "M = inv(I - β .* W)\n",
    "\n",
    "z = sum(M,dims=2)\n",
    "Mii = [M[i,i] for i in eachindex(M[1,:])]\n",
    "x = (z.^2)./Mii\n",
    "\n",
    "display(z)\n",
    "display(Mii)\n",
    "display(x)"
   ]
  },
  {
   "cell_type": "markdown",
   "metadata": {},
   "source": [
    "## 2b2"
   ]
  },
  {
   "cell_type": "markdown",
   "metadata": {},
   "source": [
    "![Alt text](hw3_2_b2_BRgraph.svg)"
   ]
  },
  {
   "cell_type": "code",
   "execution_count": 11,
   "metadata": {},
   "outputs": [
    {
     "data": {
      "text/plain": [
       "8×1 Matrix{Float64}:\n",
       " 0.1818181818181818\n",
       " 0.1818181818181819\n",
       " 0.09090909090909087\n",
       " 0.045454545454545484\n",
       " 0.045454545454545484\n",
       " 0.09090909090909095\n",
       " 0.18181818181818182\n",
       " 0.18181818181818182"
      ]
     },
     "metadata": {},
     "output_type": "display_data"
    }
   ],
   "source": [
    "Λ = [0.0 0.5 0.5 0.0 0.0 0.0 0.0 0.0;\n",
    "     0.5 0.0 0.0 0.0 0.0 0.5 0.0 0.0;\n",
    "     0.5 0.0 0.0 1.0 0.0 0.0 0.5 0.0;\n",
    "     0.0 1.0 0.0 0.0 0.0 0.0 0.0 1.0;\n",
    "     1.0 0.0 0.0 0.0 0.0 0.0 1.0 0.0;\n",
    "     0.0 0.5 0.0 0.0 1.0 0.0 0.0 0.5;\n",
    "     0.0 0.0 0.5 0.0 0.0 0.0 0.0 0.5;\n",
    "     0.0 0.0 0.0 0.0 0.0 0.5 0.5 0.0]\n",
    "\n",
    "G = Graph(Λ)\n",
    "π_inv = inv_dist_continuous(G)"
   ]
  },
  {
   "cell_type": "code",
   "execution_count": 13,
   "metadata": {},
   "outputs": [
    {
     "data": {
      "text/plain": [
       "8×1 Matrix{Float64}:\n",
       " 3.9999999999999996\n",
       " 4.000000000000002\n",
       " 1.9999999999999991\n",
       " 1.0000000000000007\n",
       " 1.0000000000000007\n",
       " 2.000000000000001\n",
       " 4.0\n",
       " 4.0"
      ]
     },
     "metadata": {},
     "output_type": "display_data"
    }
   ],
   "source": [
    "π_inv .* 22"
   ]
  }
 ],
 "metadata": {
  "kernelspec": {
   "display_name": "Julia 1.8.1",
   "language": "julia",
   "name": "julia-1.8"
  },
  "language_info": {
   "file_extension": ".jl",
   "mimetype": "application/julia",
   "name": "julia",
   "version": "1.8.1"
  }
 },
 "nbformat": 4,
 "nbformat_minor": 2
}
